{
  "nbformat": 4,
  "nbformat_minor": 0,
  "metadata": {
    "colab": {
      "provenance": [],
      "include_colab_link": true
    },
    "kernelspec": {
      "name": "python3",
      "display_name": "Python 3"
    },
    "language_info": {
      "name": "python"
    }
  },
  "cells": [
    {
      "cell_type": "markdown",
      "metadata": {
        "id": "view-in-github",
        "colab_type": "text"
      },
      "source": [
        "<a href=\"https://colab.research.google.com/github/adwiteeya-r-paul/finite-state-transducers/blob/main/Finite_State_Transducer_Code.ipynb\" target=\"_parent\"><img src=\"https://colab.research.google.com/assets/colab-badge.svg\" alt=\"Open In Colab\"/></a>"
      ]
    },
    {
      "cell_type": "markdown",
      "source": [
        "# Finite State Transducers for morphological analysis of Bribri\n",
        "Adwiteeya R. Paul (arp) (adwiteeya.r.paul.27@dartmouth.edu)<br>"
      ],
      "metadata": {
        "id": "cprzw6qF3qmI"
      }
    },
    {
      "cell_type": "markdown",
      "source": [
        "## Step 1: Loading packages and getting FST compilation code"
      ],
      "metadata": {
        "id": "NaaZoJC-pdoK"
      }
    },
    {
      "cell_type": "code",
      "execution_count": null,
      "metadata": {
        "id": "dVWbLOIVpV5l"
      },
      "outputs": [],
      "source": [
        "# This will install Python 3.7 in the virtual computer.\n",
        "# This is needed to run the FST packages\n",
        "\n",
        "%env PYTHONPATH=\n",
        "!echo $PYTHONPATH\n",
        "\n",
        "! wget https://repo.anaconda.com/miniconda/Miniconda3-py37_4.12.0-Linux-x86_64.sh\n",
        "! chmod +x Miniconda3-py37_4.12.0-Linux-x86_64.sh\n",
        "! bash ./Miniconda3-py37_4.12.0-Linux-x86_64.sh -b -f -p /usr/local/\n",
        "\n",
        "import sys\n",
        "sys.path.append(\"/usr/local/lib/python3.7/site-packages\")\n",
        "!conda config --add channels bioconda\n",
        "!conda config --add channels conda-forge"
      ]
    },
    {
      "cell_type": "code",
      "source": [
        "# Install the packages needed to build and print the FST\n",
        "!pip install openfst-python\n",
        "!pip install graphviz"
      ],
      "metadata": {
        "id": "VgQMakf-phts"
      },
      "execution_count": null,
      "outputs": []
    },
    {
      "cell_type": "code",
      "source": [
        "# A helper function to save a list into a text file\n",
        "def saveListAsFile(inputList, filename):\n",
        "\n",
        "  output = \"\"\n",
        "  for l in inputList:\n",
        "    output = output+l+\"\\n\"\n",
        "  output = output[:-1]\n",
        "\n",
        "  f = open(filename, \"w\")\n",
        "  f.write(output)\n",
        "  f.close()"
      ],
      "metadata": {
        "id": "uhbck246r7fC"
      },
      "execution_count": null,
      "outputs": []
    },
    {
      "cell_type": "markdown",
      "source": [
        "## Step 2: Defining the symbols of the FST"
      ],
      "metadata": {
        "id": "CUg0v892p4Tx"
      }
    },
    {
      "cell_type": "markdown",
      "source": [
        "The first element is a symbol in the FST (it can be one or more characters). The second element must be a number."
      ],
      "metadata": {
        "id": "0UAu4JGF4aLA"
      }
    },
    {
      "cell_type": "code",
      "source": [
        "morphSymbols = []\n",
        "translateSymbols = []\n",
        "\n",
        "morphSymbols.append(\"<eps> 0\")\n",
        "morphSymbols.append(\"a 1\")\n",
        "morphSymbols.append(\"l 2\")\n",
        "morphSymbols.append(\"e 3\")\n",
        "morphSymbols.append(\"-e 4\")\n",
        "morphSymbols.append(\"H 5\")\n",
        "morphSymbols.append(\"-a 6\")\n",
        "morphSymbols.append(\"' 7\")\n",
        "morphSymbols.append(\"k 8\")\n",
        "morphSymbols.append(\"u 9\")\n",
        "morphSymbols.append(\"x 10\")\n",
        "morphSymbols.append(\"o 11\")\n",
        "morphSymbols.append(\"-o 12\")\n",
        "morphSymbols.append(\"q 13\")\n",
        "morphSymbols.append(\"F 14\")\n",
        "morphSymbols.append(\"i 15\")\n",
        "morphSymbols.append(\"-i 16\")\n",
        "morphSymbols.append(\"r 17\")\n",
        "morphSymbols.append(\"n 18\")\n",
        "morphSymbols.append(\"-u 19\")\n",
        "morphSymbols.append(\"b 20\")\n",
        "morphSymbols.append(\"t 21\")\n",
        "morphSymbols.append(\"s 22\")\n",
        "\n",
        "translateSymbols.append(\"<eps> 0\")\n",
        "translateSymbols.append(\"a 1\")\n",
        "translateSymbols.append(\"l 2\")\n",
        "translateSymbols.append(\"e 3\")\n",
        "translateSymbols.append(\"H 4\")\n",
        "translateSymbols.append(\"' 5\")\n",
        "translateSymbols.append(\"k 6\")\n",
        "translateSymbols.append(\"u 7\")\n",
        "translateSymbols.append(\"x 8\")\n",
        "translateSymbols.append(\"o 9\")\n",
        "translateSymbols.append(\"q 10\")\n",
        "translateSymbols.append(\"F 11\")\n",
        "translateSymbols.append(\"i 12\")\n",
        "translateSymbols.append(\"r 13\")\n",
        "translateSymbols.append(\"n 14\")\n",
        "translateSymbols.append(\"b 15\")\n",
        "translateSymbols.append(\"t 16\")\n",
        "translateSymbols.append(\"s 17\")\n",
        "translateSymbols.append(\"cook 18\")\n",
        "translateSymbols.append(\"pop 19\")\n",
        "translateSymbols.append(\"-IPFV 20\")\n",
        "translateSymbols.append(\"-DESIDERATIVE 21\")\n",
        "translateSymbols.append(\"-IMP 22\")\n",
        "translateSymbols.append(\"-INF 23\")\n",
        "translateSymbols.append(\"-THEME.MID.IPFV 24\")\n",
        "translateSymbols.append(\"-THEME.MID-PFV.IMPROSP 25\")\n",
        "translateSymbols.append(\"-THEME.MID-INF 26\")\n",
        "translateSymbols.append(\"-THEME.PFV.IMPROSP 27\")\n",
        "translateSymbols.append(\"dig 28\")\n"
      ],
      "metadata": {
        "id": "j33vLu3Fp6f6"
      },
      "execution_count": null,
      "outputs": []
    },
    {
      "cell_type": "markdown",
      "source": [
        "## Step 3: Defining the transitions between the states"
      ],
      "metadata": {
        "id": "IBdadsPN4i1Q"
      }
    },
    {
      "cell_type": "markdown",
      "source": [
        "The first number is the identifier of the start state. The second number is the identifier of the end state.\n",
        "\n",
        "The first sequence of characters is the input symbol. The second sequence of characters is the output symbol."
      ],
      "metadata": {
        "id": "uT0UOTAw4tQ-"
      }
    },
    {
      "cell_type": "code",
      "source": [
        "mPaths = []   # Morpheme transition paths\n",
        "tPaths = []   # Translation transition paths\n",
        "\n",
        "mPaths.append(\"0 1 a a\")           # Transition from the start (state 0) to state 1. You get 'a' and return 'a'.\n",
        "mPaths.append(\"1 2 l l\")           # Transition from state 1 to state 2. You get 'l' and return 'l'.\n",
        "mPaths.append(\"2 3 e -e\")          # Transition from state 2 to state 3. You get 'e' and return '-e'.\n",
        "mPaths.append(\"3 4 H H\")           # Transition from state 3 to state 4. You get 'H' and return 'H'.\n",
        "mPaths.append(\"4\")                 # State 4 is an end state. The FST finished recognizing the word \"aleH\" as \"al-eH\".\n",
        "mPaths.append(\"2 5 a -a\")          # Transition from state 2 to state 5. You get 'a' and return \"-a\".\n",
        "mPaths.append(\"5 6 ' '\")           # Transition from state 5 to state 6. You get ''' and return '''.\n",
        "mPaths.append(\"6 7 k k\")           # Transition from state 6 to state 7. You get 'k' and return 'k'.\n",
        "mPaths.append(\"7 8 u u\")           # Transition from state 7 to state 8. You get 'u' and return 'u'.\n",
        "mPaths.append(\"8 9 x x\")           # Transition from state 8 to state 9. You get 'x' and return 'x'.\n",
        "mPaths.append(\"9\")                 # State 9 is an end state. The FST finished recognizing the word \"ala'kux\" as \"al-a'kux\".\n",
        "mPaths.append(\"2 10 i -i\")         # Transition from state 2 to state 10. You get 'i' and return '-i'.\n",
        "mPaths.append(\"10 11 ' '\")         # Transition from state 10 to state 11. You get ''' and return '''.\n",
        "mPaths.append(\"11\")                # State 11 is an end state. The FST finished recognizing the word \"ali'\" as \"al-i'\".\n",
        "mPaths.append(\"10 12 H H\")         # Transition from state 10 to state 12. You get 'H' and return 'H'.\n",
        "mPaths.append(\"12 13 r r\")         # Transition from state 12 to state 13. You get 'r' and return 'r'.\n",
        "mPaths.append(\"13\")                # State 13 is an end state. The FST finished recognizing the word \"aliHr\" as \"al-iHr\".\n",
        "mPaths.append(\"12 14 n n\")         # Transition from state 12 to state 14. You get 'n' and return 'n'.\n",
        "mPaths.append(\"14 15 e -e\")        # Transition from state 14 to state 15. You get 'e' and return 'e'.\n",
        "mPaths.append(\"15 16 x x\")         # Transition from state 15 to state 16. You get 'x' and return 'x'.\n",
        "mPaths.append(\"16\")                # State 16 is an end state. The FST finished recognizing the word \"aliHnex\" as \"al-iHn-ex\".\n",
        "mPaths.append(\"14 17 u -u\")        # Transition from state 14 to state 17. You get 'u' and return '-u'.\n",
        "mPaths.append(\"17 18 x x\")         # Transition from state 17 to state 18. You get 'x' and return 'x'.\n",
        "mPaths.append(\"18 19 k k\")         # Transition from state 18 to state 19. You get 'k' and return 'k'.\n",
        "mPaths.append(\"19\")                # State 19 is an end state. The FST finished recognizing the word \"aliHnuxk\" as \"al-iHn-uxk\n",
        "mPaths.append(\"2 20 o -o\")         # Transition from state 2 to state 20. You get 'o' and return '-o'.\n",
        "mPaths.append(\"20 21 q q\")         # Transition from state 20 to state 21. You get 'q' and return 'q'.\n",
        "mPaths.append(\"21 22 F F\")         # Transition from state 21 to state 22. You get 'F' and return 'F'.\n",
        "mPaths.append(\"22 23 <eps> <eps>\") # Transition from state 22 to state 23. You get '<eps>' and return <eps>.\n",
        "mPaths.append(\"23\")                # State 23 is an end state. The FST finished recognizing the word \"aloqF\" as \"al-oqF\".\n",
        "mPaths.append(\"22 24 k k\")         # Transition from state 22 to state 24. You get 'k' and return 'k'.\n",
        "mPaths.append(\"24\")                # State 24 is an end state. The FST finished recognizing the word \"aloqFk\" as \"al-oqFk\".\n",
        "mPaths.append(\"0 25 t t\")          # Transition from state 0 to state 25. You get 't' and return 't'.\n",
        "mPaths.append(\"25 26 s s\")         # Transition from state 25 to state 26. You get 's' and return 's'.\n",
        "mPaths.append(\"26 27 a a\")         # Transition from state 26 to state 27. You get 'a' and return 'a'.\n",
        "mPaths.append(\"27 2 k k\")          # Transition from state 27 to state 2. You get 'k' and return 'k'.\n",
        "mPaths.append(\"0 28 b b\")          # Transition from state 0 to state 28. You get 'b' and return 'b'.\n",
        "mPaths.append(\"28 2 i i\")          # Transition from state 28 to state 2. You get 'i' and return 'i'.\n",
        "\n",
        "\n",
        "\n",
        "tPaths.append(\"0 1 a <eps>\")       # Transition from the start (state 0) to state 1. You get 'a' and return <eps>.\n",
        "tPaths.append(\"1 2 l cook\")        # Transition from state 1 to state 2. You get 'l' and return 'cook'.\n",
        "tPaths.append(\"2 3 e <eps>\")          # Transition from state 2 to state 3. You get 'e' and return <eps>.\n",
        "tPaths.append(\"3 4 H -IPFV\")           # Transition from state 3 to state 4. You get 'H' and return '-IPFV'.\n",
        "tPaths.append(\"4\")                 # State 4 is an end state. The FST finished recognizing the word \"aleH\" as \"-IPFV\".\n",
        "tPaths.append(\"2 5 a <eps>\")          # Transition from state 2 to state 5. You get 'a' and return <eps>.\n",
        "tPaths.append(\"5 6 ' <eps>\")           # Transition from state 5 to state 6. You get ''' and return <eps>.\n",
        "tPaths.append(\"6 7 k <eps>\")           # Transition from state 6 to state 7. You get 'k' and return <eps>.\n",
        "tPaths.append(\"7 8 u <eps>\")           # Transition from state 7 to state 8. You get 'u' and return <eps>.\n",
        "tPaths.append(\"8 9 x -DESIDERATIVE\")           # Transition from state 8 to state 9. You get 'x' and return '-DESISERATIVE'.\n",
        "tPaths.append(\"9\")                 # State 9 is an end state. The FST finished recognizing the word \"ala'kux\" as \"-DESIDERATIVE\".\n",
        "tPaths.append(\"2 10 i <eps>\")         # Transition from state 2 to state 10. You get 'i' and return <eps>.\n",
        "tPaths.append(\"10 11 ' -THEME.PFV.IMPROSP\")         # Transition from state 10 to state 11. You get ''' and return \"-THEME.PFV.IMPROSP\".\n",
        "tPaths.append(\"11\")                # State 11 is an end state. The FST finished recognizing the word \"ali'\" as \"-THEME.PFV.IMPROSP\".\n",
        "tPaths.append(\"10 12 H <eps>\")         # Transition from state 10 to state 12. You get 'H' and return <eps>.\n",
        "tPaths.append(\"12 13 r -THEME.MID.IPFV\")         # Transition from state 12 to state 13. You get 'r' and return \"-THEME.MID.IPFV\"\n",
        "tPaths.append(\"13\")                # State 13 is an end state. The FST finished recognizing the word \"aliHr\" as \"-THEME.MID.IPFV\".\n",
        "tPaths.append(\"12 14 n <eps>\")         # Transition from state 12 to state 14. You get 'n' and return <eps>.\n",
        "tPaths.append(\"14 15 e <eps>\")        # Transition from state 14 to state 15. You get 'e' and return <eps>.\n",
        "tPaths.append(\"15 16 x -THEME.MID-PFV.IMPROSP\")         # Transition from state 15 to state 16. You get 'x' and return \"-THEME.MID-PFV-IMPROSP\".\n",
        "tPaths.append(\"16\")                # State 16 is an end state. The FST finished recognizing the word \"aliHnex\" as \"-THEME.MID-PFV-IMPROSP\".\n",
        "tPaths.append(\"14 17 u <eps>\")        # Transition from state 14 to state 17. You get 'u' and return <eps>.\n",
        "tPaths.append(\"17 18 x <eps>\")         # Transition from state 17 to state 18. You get 'x' and return <eps>.\n",
        "tPaths.append(\"18 19 k -THEME.MID-INF\")         # Transition from state 18 to state 19. You get 'k' and return \"-THEME.MID-INF\".\n",
        "tPaths.append(\"19\")                # State 19 is an end state. The FST finished recognizing the word \"aliHnuxk\" as \"-THEME.MID-INF\".\"\"\"\n",
        "tPaths.append(\"2 20 o <eps>\")         # Transition from state 2 to state 20. You get 'o' and return <eps>.\n",
        "tPaths.append(\"20 21 q <eps>\")         # Transition from state 20 to state 21. You get 'q' and return <eps>.\n",
        "tPaths.append(\"21 22 F <eps>\")         # Transition from state 21 to state 22. You get 'F' and return <eps>.\n",
        "tPaths.append(\"22 23 <eps> -IMP\") # Transition from state 22 to state 23. You get '<eps>' and return \"-IMP\".\n",
        "tPaths.append(\"23\")                # State 23 is an end state. The FST finished recognizing the word \"aloqF\" as \"-IMP\".\n",
        "tPaths.append(\"22 24 k -INF\")         # Transition from state 22 to state 24. You get 'k' and return \"-INF\".\n",
        "tPaths.append(\"24\")                # State 24 is an end state. The FST finished recognizing the word \"aloqFk\" as \"-INF\".\n",
        "tPaths.append(\"0 25 t <eps>\")          # Transition from state 0 to state 25. You get 't' and return <eps>.\n",
        "tPaths.append(\"25 26 s <eps>\")         # Transition from state 25 to state 26. You get 's' and return <eps>.\n",
        "tPaths.append(\"26 27 a <eps>\")         # Transition from state 26 to state 27. You get 'a' and return <eps>.\n",
        "tPaths.append(\"27 2 k pop\")\n",
        "tPaths.append(\"0 28 b <eps>\")          # Transition from state 0 to state 28. You get 'b' and return <eps>.\n",
        "tPaths.append(\"28 2 i dig\")          # Transition from state 28 to state 2. You get 'i' and return \"dig\".\"\"\"\n"
      ],
      "metadata": {
        "id": "JVqfHYXPthEz"
      },
      "execution_count": null,
      "outputs": []
    },
    {
      "cell_type": "code",
      "source": [
        "# Save the symbols and transitions into files\n",
        "saveListAsFile(morphSymbols, \"/content/morphSymbols.txt\")\n",
        "saveListAsFile(translateSymbols, \"/content/translateSymbols.txt\")\n",
        "saveListAsFile(mPaths, \"/content/mPaths.txt\")\n",
        "saveListAsFile(tPaths, \"/content/tPaths.txt\")"
      ],
      "metadata": {
        "id": "vunJQXZHsKrk"
      },
      "execution_count": null,
      "outputs": []
    },
    {
      "cell_type": "code",
      "source": [
        "# This function returns three variables:\n",
        "# (1) The word itself\n",
        "# (2) The word split by morphemes\n",
        "# (3) The word with the translation of its morphemes\n",
        "\n",
        "import os.path\n",
        "\n",
        "def getAnalysis(word):\n",
        "\n",
        "  if (os.path.isfile(\"/content/output-split.txt\")):\n",
        "    !rm output-split.txt\n",
        "  if (os.path.isfile(\"/content/output-translation.txt\")):\n",
        "    !rm output-translation.txt\n",
        "  if (os.path.isfile(\"/content/wordToAnalyze.txt\")):\n",
        "    !rm wordToAnalyze.txt\n",
        "\n",
        "  f = open(\"wordToAnalyze.txt\", \"w\")\n",
        "  f.write(word)\n",
        "  f.close()\n",
        "\n",
        "  !python hw2-fst.py\n",
        "\n",
        "  try: splitWord = open(\"output-split.txt\", \"r\").read()\n",
        "  except: splitWord = \"\"\n",
        "\n",
        "  try: wordTranslation = open(\"output-translation.txt\", \"r\").read()\n",
        "  except: wordTranslation = \"\"\n",
        "\n",
        "  return(word, splitWord, wordTranslation)"
      ],
      "metadata": {
        "id": "pYIDKyUD9Uoy"
      },
      "execution_count": null,
      "outputs": []
    },
    {
      "cell_type": "code",
      "source": [
        "# Download the code to compile the FST\n",
        "!gdown 1FPs__pexWcLFXH4d8ybDeoUYFfJYa5ay -O /content/hw2-fst.py"
      ],
      "metadata": {
        "id": "zLKDPcXr1rMG"
      },
      "execution_count": null,
      "outputs": []
    },
    {
      "cell_type": "markdown",
      "source": [
        "Originally developed as part of CS72 at Dartmouth College."
      ],
      "metadata": {
        "id": "0-3pxKWmzAM4"
      }
    },
    {
      "cell_type": "markdown",
      "source": [
        "## Step 4: Testing the FST\n",
        "\n",
        "Here are some queries that test the FSTs."
      ],
      "metadata": {
        "id": "mVtqhI_a4_UP"
      }
    },
    {
      "cell_type": "code",
      "source": [
        "word = \"aleH\"\n",
        "print(getAnalysis(word))"
      ],
      "metadata": {
        "id": "EpIwm-_x0BHU"
      },
      "execution_count": null,
      "outputs": []
    },
    {
      "cell_type": "code",
      "source": [
        "word = \"ala'kux\"\n",
        "print(getAnalysis(word))"
      ],
      "metadata": {
        "id": "56DgXDtGrK6t"
      },
      "execution_count": null,
      "outputs": []
    },
    {
      "cell_type": "code",
      "source": [
        "word = \"aloqF\"\n",
        "print(getAnalysis(word))"
      ],
      "metadata": {
        "id": "svOuuccA0cdm"
      },
      "execution_count": null,
      "outputs": []
    },
    {
      "cell_type": "code",
      "source": [
        "word = \"aloqFk\"\n",
        "print(getAnalysis(word))"
      ],
      "metadata": {
        "id": "Xq1FBqYyoWT6"
      },
      "execution_count": null,
      "outputs": []
    },
    {
      "cell_type": "markdown",
      "source": [],
      "metadata": {
        "id": "1CnLI6XnzT1z"
      }
    },
    {
      "cell_type": "code",
      "source": [
        "word = \"ali'\"\n",
        "print(getAnalysis(word))"
      ],
      "metadata": {
        "id": "jAudoG_moejS"
      },
      "execution_count": null,
      "outputs": []
    },
    {
      "cell_type": "code",
      "source": [
        "word = \"aliHr\"\n",
        "print(getAnalysis(word))"
      ],
      "metadata": {
        "id": "IhWw-5xBogvr"
      },
      "execution_count": null,
      "outputs": []
    },
    {
      "cell_type": "code",
      "source": [
        "word = \"aliHnex\"\n",
        "print(getAnalysis(word))"
      ],
      "metadata": {
        "id": "8mHFmcL5oj2J"
      },
      "execution_count": null,
      "outputs": []
    },
    {
      "cell_type": "code",
      "source": [
        "word = \"aliHnuxk\"\n",
        "print(getAnalysis(word))"
      ],
      "metadata": {
        "id": "zg0IrUeiooe4"
      },
      "execution_count": null,
      "outputs": []
    },
    {
      "cell_type": "code",
      "source": [
        "word = \"bioqFk\"\n",
        "print(getAnalysis(word))"
      ],
      "metadata": {
        "id": "WWp1ECEDGYzd"
      },
      "execution_count": null,
      "outputs": []
    },
    {
      "cell_type": "code",
      "source": [
        "word = \"tsakoqFk\"\n",
        "print(getAnalysis(word))"
      ],
      "metadata": {
        "id": "COUE9LIOHGV2"
      },
      "execution_count": null,
      "outputs": []
    },
    {
      "cell_type": "markdown",
      "source": [
        "## Getting pdfs of the FSTs"
      ],
      "metadata": {
        "id": "OBdSc7wh5oR_"
      }
    },
    {
      "cell_type": "markdown",
      "source": [
        "The Python file that compiles the FST created a PDF file with the FST. They can be downloaded here:"
      ],
      "metadata": {
        "id": "nt8VlhEk5qaJ"
      }
    },
    {
      "cell_type": "code",
      "source": [
        "from google.colab import files"
      ],
      "metadata": {
        "id": "7lxVGWLz57Ph"
      },
      "execution_count": null,
      "outputs": []
    },
    {
      "cell_type": "code",
      "source": [
        "files.download('morph.gv.pdf')"
      ],
      "metadata": {
        "id": "deGUBIm250Hz"
      },
      "execution_count": null,
      "outputs": []
    },
    {
      "cell_type": "code",
      "source": [
        "files.download('translate.gv.pdf')"
      ],
      "metadata": {
        "id": "O1QR2rW15n18"
      },
      "execution_count": null,
      "outputs": []
    }
  ]
}